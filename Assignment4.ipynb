{
 "cells": [
  {
   "cell_type": "markdown",
   "metadata": {},
   "source": [
    "# 1.1 Write a Python Program(with class concepts) to find the area of the triangle using the below formula.\n",
    "\n",
    "# area = (s*(s-a)*(s-b)*(s-c)) * * 0.5\n",
    "\n",
    "# Function to take the length of the sides of triangle from user should be defined in the parent class and function to calculate the area should be defined in subclass."
   ]
  },
  {
   "cell_type": "code",
   "execution_count": 72,
   "metadata": {},
   "outputs": [
    {
     "name": "stdout",
     "output_type": "stream",
     "text": [
      "a = 10\n",
      "b = 10\n",
      "c = 10\n",
      "area of triangle is  43.30127018922193\n"
     ]
    }
   ],
   "source": [
    "class sides:\n",
    "    def __init__(self,a,b,c):\n",
    "        self.a=a\n",
    "        self.b=b\n",
    "        self.c=c\n",
    "        \n",
    "class triangle(sides):\n",
    "    def area(self):\n",
    "        s=(self.a+self.b+self.c)/2\n",
    "        return float((s * (s - self.a) * (s - self.b) * (s - self.c)))**0.5\n",
    "    \n",
    "a, b, c = float(input(\"a = \")), float(input(\"b = \")), float(input(\"c = \"))\n",
    "t=triangle(a,b,c)\n",
    "print('area of triangle is ', t.area())\n",
    "\n",
    "        "
   ]
  },
  {
   "cell_type": "markdown",
   "metadata": {},
   "source": [
    "# 1.2 Write a function filter_long_words() that takes a list of words and an integer n and returns the list of words that are longer than n."
   ]
  },
  {
   "cell_type": "code",
   "execution_count": 15,
   "metadata": {},
   "outputs": [
    {
     "name": "stdout",
     "output_type": "stream",
     "text": [
      "['Gyanendra']\n"
     ]
    }
   ],
   "source": [
    "def filter_long_words(n, str):\n",
    "    words=[]\n",
    "    text=str.split(' ')\n",
    "    for i in text:\n",
    "        if len(i)>n:\n",
    "            words.append(i)\n",
    "    return words\n",
    "    \n",
    "print(filter_long_words(4, \"Gyanendra is very good boy\"))"
   ]
  },
  {
   "cell_type": "markdown",
   "metadata": {},
   "source": [
    "# 2.1 Write a Python program using function concept that maps list of words into a list of integers representing the lengths of the corresponding words. \n",
    "\n",
    "Hint: If a list [ ab,cde,erty] is passed on to the python function output should come as [2,3,4] Here 2,3 and 4 are the lengths of the words in the list."
   ]
  },
  {
   "cell_type": "code",
   "execution_count": 3,
   "metadata": {},
   "outputs": [
    {
     "name": "stdout",
     "output_type": "stream",
     "text": [
      "Enter the list of words :Gyanendra,Prakash,Sharma\n"
     ]
    },
    {
     "data": {
      "text/plain": [
       "[9, 7, 6]"
      ]
     },
     "execution_count": 3,
     "metadata": {},
     "output_type": "execute_result"
    }
   ],
   "source": [
    "def maps_list(mylist1):\n",
    "    \n",
    "    return list(map(len, mylist1))\n",
    "\n",
    "word_list=list(input(\"Enter the list of words :\").split(\",\"))\n",
    "num=[i.strip() for i in word_list]\n",
    "maps_list(num)"
   ]
  },
  {
   "cell_type": "markdown",
   "metadata": {},
   "source": [
    "# 2.2 Write a Python function which takes a character (i.e. a string of length 1) and returns True if it is a vowel, False otherwise."
   ]
  },
  {
   "cell_type": "code",
   "execution_count": 51,
   "metadata": {},
   "outputs": [
    {
     "name": "stdout",
     "output_type": "stream",
     "text": [
      "Enter a Character : e\n",
      "True\n"
     ]
    }
   ],
   "source": [
    "def find_vowel(char):\n",
    "    if (char==\"A\"or char==\"E\"or char==\"I\"or char==\"O\"or char==\"U\" or char==\"a\"or char==\"e\"or char==\"i\"or char==\"o\"or char==\"u\"):\n",
    "        print('True') \n",
    "\n",
    "    else: print('False')\n",
    "        \n",
    "        \n",
    "ch=str(input('Enter a Character : '))     \n",
    "find_vowel(ch)"
   ]
  }
 ],
 "metadata": {
  "kernelspec": {
   "display_name": "Python 3",
   "language": "python",
   "name": "python3"
  },
  "language_info": {
   "codemirror_mode": {
    "name": "ipython",
    "version": 3
   },
   "file_extension": ".py",
   "mimetype": "text/x-python",
   "name": "python",
   "nbconvert_exporter": "python",
   "pygments_lexer": "ipython3",
   "version": "3.8.5"
  }
 },
 "nbformat": 4,
 "nbformat_minor": 4
}
